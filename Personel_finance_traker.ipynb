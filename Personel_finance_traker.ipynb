{
  "nbformat": 4,
  "nbformat_minor": 0,
  "metadata": {
    "colab": {
      "provenance": []
    },
    "kernelspec": {
      "name": "python3",
      "display_name": "Python 3"
    },
    "language_info": {
      "name": "python"
    }
  },
  "cells": [
    {
      "cell_type": "markdown",
      "source": [
        "**Project Overview**\n",
        "This project involves creating a Personal Finance Tracker and Budget Planner using Python. It is designed to teach fundamental Python skills while building a practical application. Users will be able to track expenses and income, set budgets, and analyze their financial habits.\n",
        "\n",
        "## Steps to Build the Project\n",
        "1. **Set Up Basic Structure**:\n",
        "   - Start with a Python script and define a menu system for user interaction.\n",
        "\n",
        "2. **Transaction Recording Feature**:\n",
        "   - Implement adding and storing transactions with all necessary details.\n",
        "\n",
        "3. **Transaction Viewing Feature**:\n",
        "   - Create functionality to view the transaction history with various filters.\n",
        "\n",
        "4. **Budget Setup Feature**:\n",
        "   - Allow users to create and edit a monthly budget for different categories.\n",
        "\n",
        "5. **Budget Analysis Feature**:\n",
        "   - Develop a system to compare expenses against the budget and provide insights.\n",
        "\n",
        "6. **Testing and Refinement**:\n",
        "   - Continuously test each feature for functionality and user experience improvements.\n",
        "\n",
        "7. **Data Persistence (Optional)**:\n",
        "   - Add features to save and load data to and from a file.\n",
        "\n",
        "8. **Final Review and Testing**:\n",
        "   - Conduct a thorough review and testing of the application to ensure reliability and usability.\n",
        "\n",
        "\n"
      ],
      "metadata": {
        "id": "MOerD5qN2RtP"
      }
    },
    {
      "cell_type": "code",
      "source": [],
      "metadata": {
        "id": "hP1IEyDM2RJ3"
      },
      "execution_count": null,
      "outputs": []
    },
    {
      "cell_type": "code",
      "execution_count": null,
      "metadata": {
        "id": "mcO67HAFwc89"
      },
      "outputs": [],
      "source": []
    },
    {
      "cell_type": "code",
      "source": [],
      "metadata": {
        "id": "iDsJdx9vx-BL"
      },
      "execution_count": null,
      "outputs": []
    },
    {
      "cell_type": "code",
      "source": [],
      "metadata": {
        "id": "Q1Y8NQoJyatg"
      },
      "execution_count": null,
      "outputs": []
    },
    {
      "cell_type": "code",
      "source": [],
      "metadata": {
        "id": "VXcdYM6008Bt"
      },
      "execution_count": null,
      "outputs": []
    },
    {
      "cell_type": "code",
      "source": [],
      "metadata": {
        "id": "Aj0XjbBW1D0O"
      },
      "execution_count": null,
      "outputs": []
    },
    {
      "cell_type": "code",
      "source": [],
      "metadata": {
        "id": "2sgTTwGb1KpJ"
      },
      "execution_count": null,
      "outputs": []
    },
    {
      "cell_type": "code",
      "source": [],
      "metadata": {
        "id": "phSop6nG1SBU"
      },
      "execution_count": null,
      "outputs": []
    },
    {
      "cell_type": "code",
      "source": [
        "import json\n",
        "import matplotlib.pyplot as plt\n",
        "\n",
        "# Initialize variables\n",
        "income = 0.0\n",
        "expenses = []\n",
        "savings = 0.0\n"
      ],
      "metadata": {
        "id": "1Vpf5VcO5ita"
      },
      "execution_count": null,
      "outputs": []
    },
    {
      "cell_type": "code",
      "source": [
        "# Load transactions data from file\n",
        "def load_data():\n",
        "    global income, expenses, savings\n",
        "    try:\n",
        "        with open('transactions.json', 'r') as file:\n",
        "            data = json.load(file)\n",
        "            income = data.get('income', 0.0)\n",
        "            expenses = data.get('expenses', [])\n",
        "            savings = data.get('savings', 0.0)\n",
        "    except FileNotFoundError:\n",
        "        pass\n"
      ],
      "metadata": {
        "id": "1iKYUlyU8XQR"
      },
      "execution_count": null,
      "outputs": []
    },
    {
      "cell_type": "code",
      "source": [
        "# Save transactions data to file\n",
        "def save_data():\n",
        "    global income, expenses, savings\n",
        "    data = {\n",
        "        'income': income,\n",
        "        'expenses': expenses,\n",
        "        'savings': savings\n",
        "    }\n",
        "    with open('transactions.json', 'w') as file:\n",
        "        json.dump(data, file)\n"
      ],
      "metadata": {
        "id": "7iAJaLkR5mqK"
      },
      "execution_count": null,
      "outputs": []
    },
    {
      "cell_type": "code",
      "source": [
        "# Add a transaction for income\n",
        "def add_income():\n",
        "    global income\n",
        "    try:\n",
        "        amount = float(input('Enter income amount: '))\n",
        "        income += amount\n",
        "        print(f'Income of {amount} added successfully!')\n",
        "    except ValueError:\n",
        "        print('Invalid amount! Please enter a valid number.')\n"
      ],
      "metadata": {
        "id": "o34s5F9L5r1D"
      },
      "execution_count": null,
      "outputs": []
    },
    {
      "cell_type": "code",
      "source": [
        "# Add a transaction for expense\n",
        "def add_expense():\n",
        "    global expenses\n",
        "    description = input('Enter expense description: ')\n",
        "    try:\n",
        "        amount = float(input('Enter expense amount: '))\n",
        "        category = input('Enter expense category: ')\n",
        "        expense = {\n",
        "            'description': description,\n",
        "            'amount': amount,\n",
        "            'category': category\n",
        "        }\n",
        "        expenses.append(expense)\n",
        "        print('Expense added successfully!')\n",
        "    except ValueError:\n",
        "        print('Invalid amount! Please enter a valid number.')\n"
      ],
      "metadata": {
        "id": "4yWsp6W25wrF"
      },
      "execution_count": null,
      "outputs": []
    },
    {
      "cell_type": "code",
      "source": [
        "# Calculate savings\n",
        "def calculate_savings():\n",
        "    global income, expenses, savings\n",
        "    savings = income - sum(expense['amount'] for expense in expenses)\n",
        "    print(f'You have {savings} savings.')\n",
        "\n"
      ],
      "metadata": {
        "id": "V1J59VrI52k3"
      },
      "execution_count": null,
      "outputs": []
    },
    {
      "cell_type": "code",
      "source": [
        "# Generate report of expenses by category\n",
        "def generate_expense_report_category():\n",
        "    global expenses\n",
        "    categories = set(expense['category'] for expense in expenses)\n",
        "    print('Available categories:', categories)\n",
        "    category = input('Enter category: ')\n",
        "\n",
        "    # Check if the category entered by the user exists in the expenses list\n",
        "    if category not in categories:\n",
        "        print(f'No expenses found for category: {category}')\n",
        "        return\n",
        "\n",
        "    total_amount = sum(expense['amount'] for expense in expenses if expense['category'] == category)\n",
        "    print(f'You have spent {total_amount} on {category}')\n"
      ],
      "metadata": {
        "id": "vPWmZ28U560r"
      },
      "execution_count": null,
      "outputs": []
    },
    {
      "cell_type": "code",
      "source": [
        "# Generate a pie chart of expenses by category\n",
        "def generate_expense_chart():\n",
        "    global expenses\n",
        "    categories = set(expense['category'] for expense in expenses)\n",
        "    category_expenses = {category: 0.0 for category in categories}\n",
        "    for expense in expenses:\n",
        "        category_expenses[expense['category']] += expense['amount']\n",
        "\n",
        "    labels = category_expenses.keys()\n",
        "    values = category_expenses.values()\n",
        "\n",
        "    plt.pie(values, labels=labels, autopct='%1.1f%%')\n",
        "    plt.title('Expenses by Category')\n",
        "    plt.axis('equal')\n",
        "    plt.ion()\n",
        "    plt.show()\n"
      ],
      "metadata": {
        "id": "7C_FA3NW6B8n"
      },
      "execution_count": null,
      "outputs": []
    },
    {
      "cell_type": "code",
      "source": [
        "# Run the program\n",
        "def main():\n",
        "    load_data()\n",
        "\n",
        "    while True:\n",
        "        print('''========== Welcome to the Personal Finance Tracker!! ============''')\n",
        "        print(\"1. Add income\")\n",
        "        print(\"2. Add expense\")\n",
        "        print(\"3. Calculate savings\")\n",
        "        print(\"4. Generate expense report by category\")\n",
        "        print(\"5. Generate expense chart\")\n",
        "        print(\"6. Exit\")\n",
        "\n",
        "        try:\n",
        "            choice = int(input('Enter your choice (1-6): '))\n",
        "            if choice == 1:\n",
        "                add_income()\n",
        "            elif choice == 2:\n",
        "                add_expense()\n",
        "            elif choice == 3:\n",
        "                calculate_savings()\n",
        "            elif choice == 4:\n",
        "                generate_expense_report_category()\n",
        "            elif choice == 5:\n",
        "                generate_expense_chart()\n",
        "            elif choice == 6:\n",
        "                save_data()\n",
        "                print(\"Thank you for using the tracker!\")\n",
        "                break\n",
        "            else:\n",
        "                print('Invalid choice! Try again with a valid choice.')\n",
        "        except ValueError:\n",
        "            print('Invalid input! Please enter a valid integer choice.')\n",
        "\n",
        "if __name__ == '__main__':\n",
        "    main()\n"
      ],
      "metadata": {
        "colab": {
          "base_uri": "https://localhost:8080/",
          "height": 1000
        },
        "id": "T9EGgaJ66Mwk",
        "outputId": "0f80037a-e173-4576-c50c-c3722225da94"
      },
      "execution_count": null,
      "outputs": [
        {
          "name": "stdout",
          "output_type": "stream",
          "text": [
            "========== Welcome to the Personal Finance Tracker!! ============\n",
            "1. Add income\n",
            "2. Add expense\n",
            "3. Calculate savings\n",
            "4. Generate expense report by category\n",
            "5. Generate expense chart\n",
            "6. Exit\n",
            "Enter your choice (1-6): 1\n",
            "Enter income amount: 20000\n",
            "Income of 20000.0 added successfully!\n",
            "========== Welcome to the Personal Finance Tracker!! ============\n",
            "1. Add income\n",
            "2. Add expense\n",
            "3. Calculate savings\n",
            "4. Generate expense report by category\n",
            "5. Generate expense chart\n",
            "6. Exit\n",
            "Enter your choice (1-6): 1\n",
            "Enter income amount: 300000\n",
            "Income of 300000.0 added successfully!\n",
            "========== Welcome to the Personal Finance Tracker!! ============\n",
            "1. Add income\n",
            "2. Add expense\n",
            "3. Calculate savings\n",
            "4. Generate expense report by category\n",
            "5. Generate expense chart\n",
            "6. Exit\n",
            "Enter your choice (1-6): 1\n",
            "Enter income amount: 50000\n",
            "Income of 50000.0 added successfully!\n",
            "========== Welcome to the Personal Finance Tracker!! ============\n",
            "1. Add income\n",
            "2. Add expense\n",
            "3. Calculate savings\n",
            "4. Generate expense report by category\n",
            "5. Generate expense chart\n",
            "6. Exit\n",
            "Enter your choice (1-6): 2\n",
            "Enter expense description: 10000\n",
            "Enter expense amount: 20000\n",
            "Enter expense category: rent\n",
            "Expense added successfully!\n",
            "========== Welcome to the Personal Finance Tracker!! ============\n",
            "1. Add income\n",
            "2. Add expense\n",
            "3. Calculate savings\n",
            "4. Generate expense report by category\n",
            "5. Generate expense chart\n",
            "6. Exit\n",
            "Enter your choice (1-6): 3\n",
            "You have 350000.0 savings.\n",
            "========== Welcome to the Personal Finance Tracker!! ============\n",
            "1. Add income\n",
            "2. Add expense\n",
            "3. Calculate savings\n",
            "4. Generate expense report by category\n",
            "5. Generate expense chart\n",
            "6. Exit\n",
            "Enter your choice (1-6): 4\n",
            "Available categories: {'rent'}\n",
            "Enter category: rent\n",
            "You have spent 20000.0 on rent\n",
            "========== Welcome to the Personal Finance Tracker!! ============\n",
            "1. Add income\n",
            "2. Add expense\n",
            "3. Calculate savings\n",
            "4. Generate expense report by category\n",
            "5. Generate expense chart\n",
            "6. Exit\n",
            "Enter your choice (1-6): 5\n"
          ]
        },
        {
          "output_type": "display_data",
          "data": {
            "text/plain": [
              "<Figure size 640x480 with 1 Axes>"
            ],
            "image/png": "[encoded data removed]"
          },
          "metadata": {}
        },
        {
          "output_type": "stream",
          "name": "stdout",
          "text": [
            "========== Welcome to the Personal Finance Tracker!! ============\n",
            "1. Add income\n",
            "2. Add expense\n",
            "3. Calculate savings\n",
            "4. Generate expense report by category\n",
            "5. Generate expense chart\n",
            "6. Exit\n",
            "Enter your choice (1-6): 6\n",
            "Thank you for using the tracker!\n"
          ]
        }
      ]
    },
    {
      "cell_type": "markdown",
      "source": [],
      "metadata": {
        "id": "aED3xxKm2OLT"
      }
    }
  ]
}